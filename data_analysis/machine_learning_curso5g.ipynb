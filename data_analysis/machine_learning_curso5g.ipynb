{
 "cells": [
  {
   "cell_type": "markdown",
   "metadata": {
    "id": "zmEHsLIY20Tv"
   },
   "source": [
    "# **Preprocesado de datos**"
   ]
  },
  {
   "cell_type": "markdown",
   "metadata": {
    "id": "4OvRtVRw29ZP"
   },
   "source": [
    "## Importación de librerías"
   ]
  },
  {
   "cell_type": "code",
   "execution_count": null,
   "metadata": {
    "id": "muSsNfKu2xNP"
   },
   "outputs": [],
   "source": [
    "!pip install pandas\n",
    "!pip install numpy\n",
    "import pandas as pd\n",
    "import numpy as np"
   ]
  },
  {
   "cell_type": "markdown",
   "metadata": {
    "id": "47ZyuW7Z31Xo"
   },
   "source": [
    "## Importación del dataset"
   ]
  },
  {
   "cell_type": "code",
   "execution_count": null,
   "metadata": {
    "id": "LYCrimAM36--"
   },
   "outputs": [],
   "source": [
    "df = pd.read_csv(\"captura_tcp_curso5g.csv\")"
   ]
  },
  {
   "cell_type": "markdown",
   "metadata": {
    "id": "_hh4XBgt4yoG"
   },
   "source": [
    "## Limpieza de datos"
   ]
  },
  {
   "cell_type": "markdown",
   "metadata": {
    "id": "ScF9gktv41yW"
   },
   "source": [
    "### Eliminación de flujos TCP internos"
   ]
  },
  {
   "cell_type": "code",
   "execution_count": null,
   "metadata": {
    "id": "Sv6Pp-sK5Arg"
   },
   "outputs": [],
   "source": [
    "filtro = df['s_ip:15'].str.startswith('10.100.200.')\n",
    "df = df[~filtro]"
   ]
  },
  {
   "cell_type": "markdown",
   "metadata": {
    "id": "aCedJWA27kiE"
   },
   "source": [
    "### Etiquetado de datos"
   ]
  },
  {
   "cell_type": "code",
   "execution_count": null,
   "metadata": {
    "colab": {
     "base_uri": "https://localhost:8080/",
     "height": 548
    },
    "id": "Llrky_aG77fw",
    "outputId": "281cf0a9-8453-42df-9c28-f98d2809af2c"
   },
   "outputs": [],
   "source": [
    "df.loc[:,'label'] = 0\n",
    "\n",
    "condition = (df['#15#c_ip:1'] == '10.100.200.6') & (df['s_port:16'] == 5555)\n",
    "\n",
    "df.loc[condition, 'label'] = 1\n",
    "\n",
    "df"
   ]
  },
  {
   "cell_type": "markdown",
   "metadata": {
    "id": "XRA2mChV6uDd"
   },
   "source": [
    "### Selección de métricas relevantes"
   ]
  },
  {
   "cell_type": "code",
   "execution_count": null,
   "metadata": {
    "colab": {
     "base_uri": "https://localhost:8080/"
    },
    "id": "xSEhKaH_6tuE",
    "outputId": "6a729ee3-90ee-45d0-dec0-0c1d6949bf6c"
   },
   "outputs": [],
   "source": [
    "#metricas = ['c_pkts_all:3', 'c_ack_cnt:5', 'c_bytes_uniq:7', 'c_pkts_data:8', 'c_bytes_all:9', 's_pkts_all:17',\t's_ack_cnt:19',\t's_bytes_uniq:21',\t's_pkts_data:22',\t's_bytes_all:23', 'label']\n",
    "#metricas = ['s_bytes_uniq:21',\t's_pkts_data:22',\t's_bytes_all:23', 'label']\n",
    "metricas = ['c_pkts_all:3', 'c_ack_cnt:5', 's_pkts_all:17',\t's_ack_cnt:19', 'label']\n",
    "\n",
    "df=df[metricas]\n",
    "\n",
    "df.dtypes"
   ]
  },
  {
   "cell_type": "markdown",
   "metadata": {
    "id": "rF6ros8o2yYI"
   },
   "source": [
    "# Separación de variables independientes y variable dependiente"
   ]
  },
  {
   "cell_type": "code",
   "execution_count": null,
   "metadata": {
    "id": "kk3ocjGT_Rg6"
   },
   "outputs": [],
   "source": [
    "X = df.iloc[:,:-1].values\n",
    "y = df.iloc[:, -1].values"
   ]
  },
  {
   "cell_type": "markdown",
   "metadata": {
    "id": "Mjiywrmz_cOe"
   },
   "source": [
    "# Separación del dataset en Training Set y Test Set"
   ]
  },
  {
   "cell_type": "code",
   "execution_count": null,
   "metadata": {
    "id": "1o-DHfSs_q1k"
   },
   "outputs": [],
   "source": [
    "!pip install scikit-learn\n",
    "from sklearn.model_selection import train_test_split\n",
    "X_train, X_test, y_train, y_test = train_test_split(X, y, test_size = 0.4, random_state = 0)"
   ]
  },
  {
   "cell_type": "code",
   "execution_count": null,
   "metadata": {
    "colab": {
     "base_uri": "https://localhost:8080/"
    },
    "id": "fv7n_Q5R_yrt",
    "outputId": "fce2b185-ff0a-4437-a880-29b78bbb2aea"
   },
   "outputs": [],
   "source": [
    "print(X_train)"
   ]
  },
  {
   "cell_type": "code",
   "execution_count": null,
   "metadata": {
    "colab": {
     "base_uri": "https://localhost:8080/"
    },
    "id": "Gm9OXSW1_1BO",
    "outputId": "bcd90fba-b722-4dee-b90a-01e9a2af7704"
   },
   "outputs": [],
   "source": [
    "print(y_train)"
   ]
  },
  {
   "cell_type": "code",
   "execution_count": null,
   "metadata": {
    "colab": {
     "base_uri": "https://localhost:8080/"
    },
    "id": "kHdgJ1dD_4AG",
    "outputId": "5f09aa0a-a7c9-4870-8e4c-a6c098ae9e12"
   },
   "outputs": [],
   "source": [
    "print(X_test)"
   ]
  },
  {
   "cell_type": "code",
   "execution_count": null,
   "metadata": {
    "colab": {
     "base_uri": "https://localhost:8080/"
    },
    "id": "L1Gax73P_5sO",
    "outputId": "83059334-844e-4d92-9915-1cc31c9a2820"
   },
   "outputs": [],
   "source": [
    "print(y_test)"
   ]
  },
  {
   "cell_type": "markdown",
   "metadata": {
    "id": "9gBV33_TAArg"
   },
   "source": [
    "# Feature Scaling"
   ]
  },
  {
   "cell_type": "code",
   "execution_count": null,
   "metadata": {
    "id": "vX0qpaqgAC7o"
   },
   "outputs": [],
   "source": [
    "from sklearn.preprocessing import StandardScaler\n",
    "sc = StandardScaler()\n",
    "X_train = sc.fit_transform(X_train)\n",
    "X_test = sc.transform(X_test)"
   ]
  },
  {
   "cell_type": "code",
   "execution_count": null,
   "metadata": {
    "colab": {
     "base_uri": "https://localhost:8080/"
    },
    "id": "ZjIxhzNFAGoA",
    "outputId": "e0c58558-a691-4c9d-d432-b89dd591a2bd"
   },
   "outputs": [],
   "source": [
    "print(X_train)"
   ]
  },
  {
   "cell_type": "code",
   "execution_count": null,
   "metadata": {
    "colab": {
     "base_uri": "https://localhost:8080/"
    },
    "id": "IyIM7HhQAIzx",
    "outputId": "3570d45b-c3f5-47a6-85a3-f427957f0e2d"
   },
   "outputs": [],
   "source": [
    "print(X_test)"
   ]
  },
  {
   "cell_type": "markdown",
   "metadata": {},
   "source": [
    "# Reducción dimensional"
   ]
  },
  {
   "cell_type": "code",
   "execution_count": null,
   "metadata": {},
   "outputs": [],
   "source": [
    "#from sklearn.decomposition import PCA\n",
    "#pca = PCA(n_components = 2)\n",
    "#X_train = pca.fit_transform(X_train)\n",
    "#X_test = pca.transform(X_test)"
   ]
  },
  {
   "cell_type": "markdown",
   "metadata": {
    "id": "9eXK66IMAK5x"
   },
   "source": [
    "# Entrenamiento del modelo con el Training Set"
   ]
  },
  {
   "cell_type": "code",
   "execution_count": null,
   "metadata": {},
   "outputs": [],
   "source": []
  },
  {
   "cell_type": "code",
   "execution_count": null,
   "metadata": {
    "colab": {
     "base_uri": "https://localhost:8080/",
     "height": 92
    },
    "id": "XEdl5szYASFC",
    "outputId": "bf996ae0-12a7-44af-ba82-0f1d495aab90"
   },
   "outputs": [],
   "source": [
    "from sklearn.ensemble import RandomForestClassifier\n",
    "classifier = RandomForestClassifier(n_estimators = 100, max_depth= None,criterion = 'gini', random_state = 0)\n",
    "#from sklearn.tree import DecisionTreeClassifier\n",
    "#classifier = DecisionTreeClassifier()\n",
    "classifier.fit(X_train, y_train)"
   ]
  },
  {
   "cell_type": "markdown",
   "metadata": {
    "id": "HjYRnMT0AcEL"
   },
   "source": [
    "# Predicción de resultados en el Test Set"
   ]
  },
  {
   "cell_type": "code",
   "execution_count": null,
   "metadata": {
    "id": "WqgeQ9MrAfw8"
   },
   "outputs": [],
   "source": [
    "y_pred = classifier.predict(X_test)\n",
    "#print(np.concatenate((y_pred.reshape(len(y_pred),1), y_test.reshape(len(y_test),1)),1))"
   ]
  },
  {
   "cell_type": "markdown",
   "metadata": {
    "id": "dAJtKPW5AswF"
   },
   "source": [
    "# Análisis de resultados"
   ]
  },
  {
   "cell_type": "code",
   "execution_count": null,
   "metadata": {
    "colab": {
     "base_uri": "https://localhost:8080/"
    },
    "id": "YK9oclUkAvMP",
    "outputId": "08554bb6-432a-4b35-baeb-6981b4feb35a"
   },
   "outputs": [],
   "source": [
    "from sklearn.metrics import confusion_matrix, accuracy_score, recall_score, f1_score\n",
    "cm = confusion_matrix(y_test, y_pred)\n",
    "print(cm)\n",
    "print('Exactitud: ')\n",
    "print(accuracy_score(y_test, y_pred))\n",
    "print('Sensibilidad (TP Rate o Recall): ')\n",
    "print(recall_score(y_test, y_pred))\n",
    "print('Especificidad (TN Rate): ')\n",
    "print(recall_score(y_test, y_pred, pos_label=0))\n",
    "print('Puntaje F1: ')\n",
    "print(f1_score(y_test, y_pred))"
   ]
  },
  {
   "cell_type": "code",
   "execution_count": null,
   "metadata": {
    "colab": {
     "base_uri": "https://localhost:8080/"
    },
    "id": "mIudnYA3ZG8U",
    "outputId": "065f0919-6d2c-4cc0-efaf-d19cb1e6186b"
   },
   "outputs": [],
   "source": [
    "from sklearn.metrics import classification_report\n",
    "print(classification_report(y_test, y_pred))"
   ]
  },
  {
   "cell_type": "code",
   "execution_count": null,
   "metadata": {
    "colab": {
     "base_uri": "https://localhost:8080/"
    },
    "id": "Te5cTzaWHIcz",
    "outputId": "f5126b7d-796a-449a-e60c-8fdd39fa253f"
   },
   "outputs": [],
   "source": [
    "feature_importance = classifier.feature_importances_\n",
    "\n",
    "importance_df = pd.DataFrame({\n",
    "    'Feature': df.columns[:-1],\n",
    "    'Importance': feature_importance\n",
    "})\n",
    "\n",
    "importance_df = importance_df.sort_values(by='Importance', ascending=False)\n",
    "\n",
    "print(importance_df)"
   ]
  },
  {
   "cell_type": "markdown",
   "metadata": {
    "id": "WgkJ23H1IrXm"
   },
   "source": [
    "# Visualización de resultados"
   ]
  },
  {
   "cell_type": "code",
   "execution_count": null,
   "metadata": {
    "colab": {
     "base_uri": "https://localhost:8080/",
     "height": 975
    },
    "id": "ytDkbvyII08q",
    "outputId": "911fe813-4e7f-4e67-adf2-b6f63b2c411e"
   },
   "outputs": [],
   "source": [
    "!pip install matplotlib\n",
    "from sklearn import tree\n",
    "import matplotlib.pyplot as plt\n",
    "\n",
    "first_tree = classifier.estimators_[1]\n",
    "\n",
    "plt.figure(figsize=(8, 8))\n",
    "tree.plot_tree(first_tree, feature_names=df.columns.tolist(), class_names=['Normal', 'Cryptomining'], filled=True)\n",
    "plt.show()"
   ]
  },
  {
   "cell_type": "code",
   "execution_count": null,
   "metadata": {},
   "outputs": [],
   "source": [
    "import matplotlib.pyplot as plt\n",
    "from matplotlib.colors import ListedColormap\n",
    "X_set, y_set = X_train, y_train\n",
    "X1, X2 = np.meshgrid(np.arange(start = X_set[:, 0].min() - 1, stop = X_set[:, 0].max() + 1, step = 0.01),\n",
    "                     np.arange(start = X_set[:, 1].min() - 1, stop = X_set[:, 1].max() + 1, step = 0.01))\n",
    "plt.contourf(X1, X2, classifier.predict(np.array([X1.ravel(), X2.ravel()]).T).reshape(X1.shape),\n",
    "             alpha = 0.75, cmap = ListedColormap(('red', 'blue')))\n",
    "plt.xlim(X1.min(), X1.max())\n",
    "plt.ylim(X2.min(), X2.max())\n",
    "for i, j in enumerate(np.unique(y_set)):\n",
    "    plt.scatter(X_set[y_set == j, 0], X_set[y_set == j, 1],\n",
    "                c = ListedColormap(('red', 'blue'))(i), label = j)\n",
    "plt.title('Logistic Regression (Training set)')\n",
    "plt.xlabel('PC1')\n",
    "plt.ylabel('PC2')\n",
    "plt.legend()\n",
    "plt.show()"
   ]
  },
  {
   "cell_type": "code",
   "execution_count": null,
   "metadata": {},
   "outputs": [],
   "source": [
    "from matplotlib.colors import ListedColormap\n",
    "X_set, y_set = X_test, y_test\n",
    "X1, X2 = np.meshgrid(np.arange(start = X_set[:, 0].min() - 1, stop = X_set[:, 0].max() + 1, step = 0.01),\n",
    "                     np.arange(start = X_set[:, 1].min() - 1, stop = X_set[:, 1].max() + 1, step = 0.01))\n",
    "plt.contourf(X1, X2, classifier.predict(np.array([X1.ravel(), X2.ravel()]).T).reshape(X1.shape),\n",
    "             alpha = 0.75, cmap = ListedColormap(('red', 'blue')))\n",
    "plt.xlim(X1.min(), X1.max())\n",
    "plt.ylim(X2.min(), X2.max())\n",
    "for i, j in enumerate(np.unique(y_set)):\n",
    "    plt.scatter(X_set[y_set == j, 0], X_set[y_set == j, 1],\n",
    "                c = ListedColormap(('red', 'blue'))(i), label = j)\n",
    "plt.title('Logistic Regression (Test set)')\n",
    "plt.xlabel('PC1')\n",
    "plt.ylabel('PC2')\n",
    "plt.legend()\n",
    "plt.show()"
   ]
  },
  {
   "cell_type": "code",
   "execution_count": null,
   "metadata": {},
   "outputs": [],
   "source": []
  }
 ],
 "metadata": {
  "colab": {
   "provenance": []
  },
  "kernelspec": {
   "display_name": "Python 3 (ipykernel)",
   "language": "python",
   "name": "python3"
  },
  "language_info": {
   "codemirror_mode": {
    "name": "ipython",
    "version": 3
   },
   "file_extension": ".py",
   "mimetype": "text/x-python",
   "name": "python",
   "nbconvert_exporter": "python",
   "pygments_lexer": "ipython3",
   "version": "3.11.5"
  }
 },
 "nbformat": 4,
 "nbformat_minor": 4
}
