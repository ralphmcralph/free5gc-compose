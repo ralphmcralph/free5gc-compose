{
 "cells": [
  {
   "cell_type": "markdown",
   "metadata": {
    "id": "zmEHsLIY20Tv"
   },
   "source": [
    "# **Preprocesado de datos**"
   ]
  },
  {
   "cell_type": "markdown",
   "metadata": {
    "id": "4OvRtVRw29ZP"
   },
   "source": [
    "## Importación de librerías"
   ]
  },
  {
   "cell_type": "code",
   "execution_count": 1,
   "metadata": {
    "id": "muSsNfKu2xNP"
   },
   "outputs": [
    {
     "name": "stdout",
     "output_type": "stream",
     "text": [
      "Requirement already satisfied: pandas in /home/ubuntu/.local/lib/python3.8/site-packages (2.0.3)\n",
      "Requirement already satisfied: numpy>=1.20.3; python_version < \"3.10\" in /home/ubuntu/.local/lib/python3.8/site-packages (from pandas) (1.24.4)\n",
      "Requirement already satisfied: tzdata>=2022.1 in /home/ubuntu/.local/lib/python3.8/site-packages (from pandas) (2024.1)\n",
      "Requirement already satisfied: pytz>=2020.1 in /home/ubuntu/.local/lib/python3.8/site-packages (from pandas) (2024.1)\n",
      "Requirement already satisfied: python-dateutil>=2.8.2 in /home/ubuntu/.local/lib/python3.8/site-packages (from pandas) (2.9.0.post0)\n",
      "Requirement already satisfied: six>=1.5 in /usr/lib/python3/dist-packages (from python-dateutil>=2.8.2->pandas) (1.14.0)\n",
      "Requirement already satisfied: numpy in /home/ubuntu/.local/lib/python3.8/site-packages (1.24.4)\n"
     ]
    }
   ],
   "source": [
    "!pip install pandas\n",
    "!pip install numpy\n",
    "import pandas as pd\n",
    "import numpy as np"
   ]
  },
  {
   "cell_type": "markdown",
   "metadata": {
    "id": "47ZyuW7Z31Xo"
   },
   "source": [
    "## Importación del dataset"
   ]
  },
  {
   "cell_type": "code",
   "execution_count": 2,
   "metadata": {
    "id": "LYCrimAM36--"
   },
   "outputs": [],
   "source": [
    "df = pd.read_csv(\"captura_tcp_curso5g.csv\")"
   ]
  },
  {
   "cell_type": "markdown",
   "metadata": {
    "id": "_hh4XBgt4yoG"
   },
   "source": [
    "## Limpieza de datos"
   ]
  },
  {
   "cell_type": "markdown",
   "metadata": {
    "id": "ScF9gktv41yW"
   },
   "source": [
    "### Eliminación de flujos TCP internos"
   ]
  },
  {
   "cell_type": "code",
   "execution_count": 3,
   "metadata": {
    "id": "Sv6Pp-sK5Arg"
   },
   "outputs": [],
   "source": [
    "filtro = df['s_ip:15'].str.startswith('10.100.200.')\n",
    "df = df[~filtro]"
   ]
  },
  {
   "cell_type": "markdown",
   "metadata": {
    "id": "aCedJWA27kiE"
   },
   "source": [
    "### Etiquetado de datos"
   ]
  },
  {
   "cell_type": "code",
   "execution_count": 4,
   "metadata": {
    "colab": {
     "base_uri": "https://localhost:8080/",
     "height": 548
    },
    "id": "Llrky_aG77fw",
    "outputId": "281cf0a9-8453-42df-9c28-f98d2809af2c"
   },
   "outputs": [
    {
     "data": {
      "text/html": [
       "<div>\n",
       "<style scoped>\n",
       "    .dataframe tbody tr th:only-of-type {\n",
       "        vertical-align: middle;\n",
       "    }\n",
       "\n",
       "    .dataframe tbody tr th {\n",
       "        vertical-align: top;\n",
       "    }\n",
       "\n",
       "    .dataframe thead th {\n",
       "        text-align: right;\n",
       "    }\n",
       "</style>\n",
       "<table border=\"1\" class=\"dataframe\">\n",
       "  <thead>\n",
       "    <tr style=\"text-align: right;\">\n",
       "      <th></th>\n",
       "      <th>#15#c_ip:1</th>\n",
       "      <th>c_port:2</th>\n",
       "      <th>c_pkts_all:3</th>\n",
       "      <th>c_rst_cnt:4</th>\n",
       "      <th>c_ack_cnt:5</th>\n",
       "      <th>c_ack_cnt_p:6</th>\n",
       "      <th>c_bytes_uniq:7</th>\n",
       "      <th>c_pkts_data:8</th>\n",
       "      <th>c_bytes_all:9</th>\n",
       "      <th>c_pkts_retx:10</th>\n",
       "      <th>...</th>\n",
       "      <th>s_last_handshakeT:122</th>\n",
       "      <th>c_appdataT:123</th>\n",
       "      <th>s_appdataT:124</th>\n",
       "      <th>c_appdataB:125</th>\n",
       "      <th>s_appdataB:126</th>\n",
       "      <th>fqdn:127</th>\n",
       "      <th>dns_rslv:128</th>\n",
       "      <th>req_tm:129</th>\n",
       "      <th>res_tm:130</th>\n",
       "      <th>label</th>\n",
       "    </tr>\n",
       "  </thead>\n",
       "  <tbody>\n",
       "    <tr>\n",
       "      <th>12</th>\n",
       "      <td>10.100.200.6</td>\n",
       "      <td>56196</td>\n",
       "      <td>17</td>\n",
       "      <td>1</td>\n",
       "      <td>15</td>\n",
       "      <td>11</td>\n",
       "      <td>1018</td>\n",
       "      <td>3</td>\n",
       "      <td>1018</td>\n",
       "      <td>0</td>\n",
       "      <td>...</td>\n",
       "      <td>0.000</td>\n",
       "      <td>0.000</td>\n",
       "      <td>0.000</td>\n",
       "      <td>0</td>\n",
       "      <td>0</td>\n",
       "      <td>-</td>\n",
       "      <td>-</td>\n",
       "      <td>0.0</td>\n",
       "      <td>0.0</td>\n",
       "      <td>1</td>\n",
       "    </tr>\n",
       "    <tr>\n",
       "      <th>347</th>\n",
       "      <td>10.100.200.3</td>\n",
       "      <td>50954</td>\n",
       "      <td>13</td>\n",
       "      <td>1</td>\n",
       "      <td>11</td>\n",
       "      <td>6</td>\n",
       "      <td>780</td>\n",
       "      <td>4</td>\n",
       "      <td>780</td>\n",
       "      <td>0</td>\n",
       "      <td>...</td>\n",
       "      <td>861.747</td>\n",
       "      <td>862.422</td>\n",
       "      <td>1146.129</td>\n",
       "      <td>644</td>\n",
       "      <td>5279</td>\n",
       "      <td>-</td>\n",
       "      <td>-</td>\n",
       "      <td>0.0</td>\n",
       "      <td>0.0</td>\n",
       "      <td>0</td>\n",
       "    </tr>\n",
       "    <tr>\n",
       "      <th>348</th>\n",
       "      <td>10.100.200.6</td>\n",
       "      <td>32906</td>\n",
       "      <td>16</td>\n",
       "      <td>1</td>\n",
       "      <td>14</td>\n",
       "      <td>10</td>\n",
       "      <td>1018</td>\n",
       "      <td>3</td>\n",
       "      <td>1018</td>\n",
       "      <td>0</td>\n",
       "      <td>...</td>\n",
       "      <td>0.000</td>\n",
       "      <td>0.000</td>\n",
       "      <td>0.000</td>\n",
       "      <td>0</td>\n",
       "      <td>0</td>\n",
       "      <td>-</td>\n",
       "      <td>-</td>\n",
       "      <td>0.0</td>\n",
       "      <td>0.0</td>\n",
       "      <td>1</td>\n",
       "    </tr>\n",
       "    <tr>\n",
       "      <th>349</th>\n",
       "      <td>10.100.200.3</td>\n",
       "      <td>45276</td>\n",
       "      <td>15</td>\n",
       "      <td>1</td>\n",
       "      <td>13</td>\n",
       "      <td>4</td>\n",
       "      <td>828</td>\n",
       "      <td>8</td>\n",
       "      <td>828</td>\n",
       "      <td>0</td>\n",
       "      <td>...</td>\n",
       "      <td>44.170</td>\n",
       "      <td>45.049</td>\n",
       "      <td>58.837</td>\n",
       "      <td>582</td>\n",
       "      <td>3723</td>\n",
       "      <td>-</td>\n",
       "      <td>-</td>\n",
       "      <td>0.0</td>\n",
       "      <td>0.0</td>\n",
       "      <td>0</td>\n",
       "    </tr>\n",
       "    <tr>\n",
       "      <th>350</th>\n",
       "      <td>10.100.200.6</td>\n",
       "      <td>35842</td>\n",
       "      <td>17</td>\n",
       "      <td>1</td>\n",
       "      <td>15</td>\n",
       "      <td>12</td>\n",
       "      <td>785</td>\n",
       "      <td>2</td>\n",
       "      <td>785</td>\n",
       "      <td>0</td>\n",
       "      <td>...</td>\n",
       "      <td>0.000</td>\n",
       "      <td>0.000</td>\n",
       "      <td>0.000</td>\n",
       "      <td>0</td>\n",
       "      <td>0</td>\n",
       "      <td>-</td>\n",
       "      <td>-</td>\n",
       "      <td>0.0</td>\n",
       "      <td>0.0</td>\n",
       "      <td>1</td>\n",
       "    </tr>\n",
       "    <tr>\n",
       "      <th>...</th>\n",
       "      <td>...</td>\n",
       "      <td>...</td>\n",
       "      <td>...</td>\n",
       "      <td>...</td>\n",
       "      <td>...</td>\n",
       "      <td>...</td>\n",
       "      <td>...</td>\n",
       "      <td>...</td>\n",
       "      <td>...</td>\n",
       "      <td>...</td>\n",
       "      <td>...</td>\n",
       "      <td>...</td>\n",
       "      <td>...</td>\n",
       "      <td>...</td>\n",
       "      <td>...</td>\n",
       "      <td>...</td>\n",
       "      <td>...</td>\n",
       "      <td>...</td>\n",
       "      <td>...</td>\n",
       "      <td>...</td>\n",
       "      <td>...</td>\n",
       "    </tr>\n",
       "    <tr>\n",
       "      <th>1261</th>\n",
       "      <td>10.100.200.3</td>\n",
       "      <td>35972</td>\n",
       "      <td>44</td>\n",
       "      <td>1</td>\n",
       "      <td>42</td>\n",
       "      <td>33</td>\n",
       "      <td>846</td>\n",
       "      <td>8</td>\n",
       "      <td>846</td>\n",
       "      <td>0</td>\n",
       "      <td>...</td>\n",
       "      <td>54.834</td>\n",
       "      <td>56.360</td>\n",
       "      <td>79.077</td>\n",
       "      <td>598</td>\n",
       "      <td>3567</td>\n",
       "      <td>-</td>\n",
       "      <td>-</td>\n",
       "      <td>0.0</td>\n",
       "      <td>0.0</td>\n",
       "      <td>0</td>\n",
       "    </tr>\n",
       "    <tr>\n",
       "      <th>1262</th>\n",
       "      <td>10.100.200.3</td>\n",
       "      <td>53342</td>\n",
       "      <td>18</td>\n",
       "      <td>1</td>\n",
       "      <td>16</td>\n",
       "      <td>7</td>\n",
       "      <td>841</td>\n",
       "      <td>8</td>\n",
       "      <td>841</td>\n",
       "      <td>0</td>\n",
       "      <td>...</td>\n",
       "      <td>58.658</td>\n",
       "      <td>59.727</td>\n",
       "      <td>76.285</td>\n",
       "      <td>598</td>\n",
       "      <td>4740</td>\n",
       "      <td>-</td>\n",
       "      <td>-</td>\n",
       "      <td>0.0</td>\n",
       "      <td>0.0</td>\n",
       "      <td>0</td>\n",
       "    </tr>\n",
       "    <tr>\n",
       "      <th>1263</th>\n",
       "      <td>10.100.200.6</td>\n",
       "      <td>50868</td>\n",
       "      <td>17</td>\n",
       "      <td>1</td>\n",
       "      <td>15</td>\n",
       "      <td>13</td>\n",
       "      <td>552</td>\n",
       "      <td>1</td>\n",
       "      <td>552</td>\n",
       "      <td>0</td>\n",
       "      <td>...</td>\n",
       "      <td>0.000</td>\n",
       "      <td>0.000</td>\n",
       "      <td>0.000</td>\n",
       "      <td>0</td>\n",
       "      <td>0</td>\n",
       "      <td>-</td>\n",
       "      <td>-</td>\n",
       "      <td>0.0</td>\n",
       "      <td>0.0</td>\n",
       "      <td>1</td>\n",
       "    </tr>\n",
       "    <tr>\n",
       "      <th>1264</th>\n",
       "      <td>10.100.200.6</td>\n",
       "      <td>44022</td>\n",
       "      <td>11</td>\n",
       "      <td>1</td>\n",
       "      <td>9</td>\n",
       "      <td>6</td>\n",
       "      <td>785</td>\n",
       "      <td>2</td>\n",
       "      <td>785</td>\n",
       "      <td>0</td>\n",
       "      <td>...</td>\n",
       "      <td>0.000</td>\n",
       "      <td>0.000</td>\n",
       "      <td>0.000</td>\n",
       "      <td>0</td>\n",
       "      <td>0</td>\n",
       "      <td>-</td>\n",
       "      <td>-</td>\n",
       "      <td>0.0</td>\n",
       "      <td>0.0</td>\n",
       "      <td>1</td>\n",
       "    </tr>\n",
       "    <tr>\n",
       "      <th>1265</th>\n",
       "      <td>10.100.200.3</td>\n",
       "      <td>53510</td>\n",
       "      <td>16</td>\n",
       "      <td>1</td>\n",
       "      <td>14</td>\n",
       "      <td>5</td>\n",
       "      <td>845</td>\n",
       "      <td>8</td>\n",
       "      <td>845</td>\n",
       "      <td>0</td>\n",
       "      <td>...</td>\n",
       "      <td>205.540</td>\n",
       "      <td>206.723</td>\n",
       "      <td>306.114</td>\n",
       "      <td>598</td>\n",
       "      <td>2927</td>\n",
       "      <td>-</td>\n",
       "      <td>-</td>\n",
       "      <td>0.0</td>\n",
       "      <td>0.0</td>\n",
       "      <td>0</td>\n",
       "    </tr>\n",
       "  </tbody>\n",
       "</table>\n",
       "<p>919 rows × 131 columns</p>\n",
       "</div>"
      ],
      "text/plain": [
       "        #15#c_ip:1  c_port:2  c_pkts_all:3  c_rst_cnt:4  c_ack_cnt:5  \\\n",
       "12    10.100.200.6     56196            17            1           15   \n",
       "347   10.100.200.3     50954            13            1           11   \n",
       "348   10.100.200.6     32906            16            1           14   \n",
       "349   10.100.200.3     45276            15            1           13   \n",
       "350   10.100.200.6     35842            17            1           15   \n",
       "...            ...       ...           ...          ...          ...   \n",
       "1261  10.100.200.3     35972            44            1           42   \n",
       "1262  10.100.200.3     53342            18            1           16   \n",
       "1263  10.100.200.6     50868            17            1           15   \n",
       "1264  10.100.200.6     44022            11            1            9   \n",
       "1265  10.100.200.3     53510            16            1           14   \n",
       "\n",
       "      c_ack_cnt_p:6  c_bytes_uniq:7  c_pkts_data:8  c_bytes_all:9  \\\n",
       "12               11            1018              3           1018   \n",
       "347               6             780              4            780   \n",
       "348              10            1018              3           1018   \n",
       "349               4             828              8            828   \n",
       "350              12             785              2            785   \n",
       "...             ...             ...            ...            ...   \n",
       "1261             33             846              8            846   \n",
       "1262              7             841              8            841   \n",
       "1263             13             552              1            552   \n",
       "1264              6             785              2            785   \n",
       "1265              5             845              8            845   \n",
       "\n",
       "      c_pkts_retx:10  ...  s_last_handshakeT:122  c_appdataT:123  \\\n",
       "12                 0  ...                  0.000           0.000   \n",
       "347                0  ...                861.747         862.422   \n",
       "348                0  ...                  0.000           0.000   \n",
       "349                0  ...                 44.170          45.049   \n",
       "350                0  ...                  0.000           0.000   \n",
       "...              ...  ...                    ...             ...   \n",
       "1261               0  ...                 54.834          56.360   \n",
       "1262               0  ...                 58.658          59.727   \n",
       "1263               0  ...                  0.000           0.000   \n",
       "1264               0  ...                  0.000           0.000   \n",
       "1265               0  ...                205.540         206.723   \n",
       "\n",
       "      s_appdataT:124  c_appdataB:125 s_appdataB:126  fqdn:127  dns_rslv:128  \\\n",
       "12             0.000               0              0         -             -   \n",
       "347         1146.129             644           5279         -             -   \n",
       "348            0.000               0              0         -             -   \n",
       "349           58.837             582           3723         -             -   \n",
       "350            0.000               0              0         -             -   \n",
       "...              ...             ...            ...       ...           ...   \n",
       "1261          79.077             598           3567         -             -   \n",
       "1262          76.285             598           4740         -             -   \n",
       "1263           0.000               0              0         -             -   \n",
       "1264           0.000               0              0         -             -   \n",
       "1265         306.114             598           2927         -             -   \n",
       "\n",
       "      req_tm:129  res_tm:130  label  \n",
       "12           0.0         0.0      1  \n",
       "347          0.0         0.0      0  \n",
       "348          0.0         0.0      1  \n",
       "349          0.0         0.0      0  \n",
       "350          0.0         0.0      1  \n",
       "...          ...         ...    ...  \n",
       "1261         0.0         0.0      0  \n",
       "1262         0.0         0.0      0  \n",
       "1263         0.0         0.0      1  \n",
       "1264         0.0         0.0      1  \n",
       "1265         0.0         0.0      0  \n",
       "\n",
       "[919 rows x 131 columns]"
      ]
     },
     "execution_count": 4,
     "metadata": {},
     "output_type": "execute_result"
    }
   ],
   "source": [
    "df.loc[:,'label'] = 0\n",
    "\n",
    "condition = (df['#15#c_ip:1'] == '10.100.200.6') & (df['s_port:16'] == 5555)\n",
    "\n",
    "df.loc[condition, 'label'] = 1\n",
    "\n",
    "df"
   ]
  },
  {
   "cell_type": "markdown",
   "metadata": {
    "id": "XRA2mChV6uDd"
   },
   "source": [
    "### Selección de métricas relevantes"
   ]
  },
  {
   "cell_type": "code",
   "execution_count": 5,
   "metadata": {
    "colab": {
     "base_uri": "https://localhost:8080/"
    },
    "id": "xSEhKaH_6tuE",
    "outputId": "6a729ee3-90ee-45d0-dec0-0c1d6949bf6c"
   },
   "outputs": [
    {
     "data": {
      "text/plain": [
       "c_pkts_all:3     int64\n",
       "c_ack_cnt:5      int64\n",
       "s_pkts_all:17    int64\n",
       "s_ack_cnt:19     int64\n",
       "label            int64\n",
       "dtype: object"
      ]
     },
     "execution_count": 5,
     "metadata": {},
     "output_type": "execute_result"
    }
   ],
   "source": [
    "#metricas = ['c_pkts_all:3', 'c_ack_cnt:5', 'c_bytes_uniq:7', 'c_pkts_data:8', 'c_bytes_all:9', 's_pkts_all:17',\t's_ack_cnt:19',\t's_bytes_uniq:21',\t's_pkts_data:22',\t's_bytes_all:23', 'label']\n",
    "#metricas = ['s_bytes_uniq:21',\t's_pkts_data:22',\t's_bytes_all:23', 'label']\n",
    "metricas = ['c_pkts_all:3', 'c_ack_cnt:5', 's_pkts_all:17',\t's_ack_cnt:19', 'label']\n",
    "\n",
    "df=df[metricas]\n",
    "\n",
    "df.dtypes"
   ]
  },
  {
   "cell_type": "markdown",
   "metadata": {
    "id": "rF6ros8o2yYI"
   },
   "source": [
    "# Separación de variables independientes y variable dependiente"
   ]
  },
  {
   "cell_type": "code",
   "execution_count": 6,
   "metadata": {
    "id": "kk3ocjGT_Rg6"
   },
   "outputs": [],
   "source": [
    "X = df.iloc[:,:-1].values\n",
    "y = df.iloc[:, -1].values"
   ]
  },
  {
   "cell_type": "markdown",
   "metadata": {
    "id": "Mjiywrmz_cOe"
   },
   "source": [
    "# Separación del dataset en Training Set y Test Set"
   ]
  },
  {
   "cell_type": "code",
   "execution_count": 7,
   "metadata": {
    "id": "1o-DHfSs_q1k"
   },
   "outputs": [
    {
     "name": "stdout",
     "output_type": "stream",
     "text": [
      "Requirement already satisfied: scikit-learn in /home/ubuntu/.local/lib/python3.8/site-packages (1.3.2)\n",
      "Requirement already satisfied: numpy<2.0,>=1.17.3 in /home/ubuntu/.local/lib/python3.8/site-packages (from scikit-learn) (1.24.4)\n",
      "Requirement already satisfied: threadpoolctl>=2.0.0 in /home/ubuntu/.local/lib/python3.8/site-packages (from scikit-learn) (3.4.0)\n",
      "Requirement already satisfied: joblib>=1.1.1 in /home/ubuntu/.local/lib/python3.8/site-packages (from scikit-learn) (1.4.0)\n",
      "Requirement already satisfied: scipy>=1.5.0 in /home/ubuntu/.local/lib/python3.8/site-packages (from scikit-learn) (1.10.1)\n"
     ]
    }
   ],
   "source": [
    "!pip install scikit-learn\n",
    "from sklearn.model_selection import train_test_split\n",
    "X_train, X_test, y_train, y_test = train_test_split(X, y, test_size = 0.4, random_state = 0)"
   ]
  },
  {
   "cell_type": "code",
   "execution_count": 8,
   "metadata": {
    "colab": {
     "base_uri": "https://localhost:8080/"
    },
    "id": "fv7n_Q5R_yrt",
    "outputId": "fce2b185-ff0a-4437-a880-29b78bbb2aea"
   },
   "outputs": [
    {
     "name": "stdout",
     "output_type": "stream",
     "text": [
      "[[  8   6  10  10]\n",
      " [ 17  15  19  19]\n",
      " [ 94  92 107 107]\n",
      " ...\n",
      " [239 237 149 149]\n",
      " [ 18  17  17  17]\n",
      " [ 97  96  51  51]]\n"
     ]
    }
   ],
   "source": [
    "print(X_train)"
   ]
  },
  {
   "cell_type": "code",
   "execution_count": 9,
   "metadata": {
    "colab": {
     "base_uri": "https://localhost:8080/"
    },
    "id": "Gm9OXSW1_1BO",
    "outputId": "bcd90fba-b722-4dee-b90a-01e9a2af7704"
   },
   "outputs": [
    {
     "name": "stdout",
     "output_type": "stream",
     "text": [
      "[1 1 0 1 1 0 0 1 1 1 0 1 0 1 1 0 0 0 1 0 0 0 0 1 0 0 0 1 0 0 0 1 1 0 1 0 0\n",
      " 1 0 0 0 1 1 1 1 0 0 0 0 1 1 1 0 0 1 0 1 1 0 1 1 0 0 0 0 1 0 0 0 0 0 0 1 1\n",
      " 0 0 1 0 0 1 1 1 1 0 1 0 0 1 1 1 1 1 0 1 1 0 0 0 0 1 0 1 1 1 0 0 1 0 1 0 0\n",
      " 1 0 0 1 1 1 1 0 0 1 1 0 1 1 0 1 0 1 1 1 0 0 0 1 0 1 1 1 1 0 0 1 1 0 1 0 0\n",
      " 0 1 0 0 1 1 0 1 1 1 1 0 0 1 1 0 0 1 1 0 0 0 0 0 0 0 1 0 1 0 0 0 0 1 0 1 1\n",
      " 1 1 0 0 0 1 1 0 1 1 0 0 0 1 0 0 1 0 1 1 1 0 1 1 1 1 1 0 1 1 1 1 1 1 1 0 1\n",
      " 0 0 0 0 1 1 1 0 1 1 0 0 1 0 0 0 1 1 0 1 0 1 0 0 1 0 1 0 0 1 1 0 0 1 1 0 0\n",
      " 1 0 1 0 0 1 1 0 1 1 0 0 0 1 0 1 1 0 1 1 0 0 0 0 1 0 0 1 0 1 0 0 1 0 1 0 0\n",
      " 1 0 0 0 0 1 0 0 0 1 1 0 1 0 1 1 1 0 1 1 0 1 0 0 0 0 0 1 0 0 0 0 1 0 0 0 0\n",
      " 0 1 0 1 1 0 1 0 1 1 1 1 1 1 0 1 1 0 0 0 0 0 1 1 0 0 1 1 1 0 1 0 1 0 0 1 1\n",
      " 0 1 0 0 0 1 0 1 0 0 1 0 1 0 1 0 1 1 0 1 1 0 0 0 1 0 0 1 1 0 0 1 1 0 1 1 0\n",
      " 0 1 0 0 1 0 1 1 1 1 1 1 0 1 0 1 0 1 1 0 1 1 0 0 0 1 0 1 1 1 0 0 1 1 0 0 1\n",
      " 1 0 0 0 0 0 1 1 1 1 0 1 1 1 1 1 0 1 0 1 0 1 1 1 0 0 1 0 1 0 0 1 0 1 0 0 0\n",
      " 0 1 0 0 0 1 1 0 0 0 1 0 0 1 1 1 0 1 1 0 1 1 0 0 0 0 0 0 0 0 1 1 0 1 1 0 1\n",
      " 1 0 1 0 1 0 0 1 0 1 1 0 0 0 0 1 1 0 1 1 0 1 1 1 1 0 1 0 0 1 0 0 0]\n"
     ]
    }
   ],
   "source": [
    "print(y_train)"
   ]
  },
  {
   "cell_type": "code",
   "execution_count": 10,
   "metadata": {
    "colab": {
     "base_uri": "https://localhost:8080/"
    },
    "id": "kHdgJ1dD_4AG",
    "outputId": "5f09aa0a-a7c9-4870-8e4c-a6c098ae9e12"
   },
   "outputs": [
    {
     "name": "stdout",
     "output_type": "stream",
     "text": [
      "[[13 11 12 12]\n",
      " [16 15 16 16]\n",
      " [36 35 26 26]\n",
      " ...\n",
      " [16 15 15 15]\n",
      " [12 10 14 14]\n",
      " [95 94 45 45]]\n"
     ]
    }
   ],
   "source": [
    "print(X_test)"
   ]
  },
  {
   "cell_type": "code",
   "execution_count": 11,
   "metadata": {
    "colab": {
     "base_uri": "https://localhost:8080/"
    },
    "id": "L1Gax73P_5sO",
    "outputId": "83059334-844e-4d92-9915-1cc31c9a2820"
   },
   "outputs": [
    {
     "name": "stdout",
     "output_type": "stream",
     "text": [
      "[0 0 0 1 1 0 0 0 0 1 0 1 1 1 0 1 1 1 1 1 1 0 0 0 1 0 0 1 0 0 0 0 0 1 0 0 0\n",
      " 0 0 1 1 1 0 0 1 1 1 1 0 1 1 1 1 1 1 1 0 1 0 1 1 0 0 1 0 1 0 1 0 0 1 0 1 0\n",
      " 1 0 1 1 0 0 0 0 0 0 0 0 0 1 0 0 0 0 0 0 1 1 0 0 1 1 0 0 0 1 1 0 1 0 0 1 0\n",
      " 1 1 1 1 1 0 1 0 0 1 1 0 0 0 0 0 0 1 0 0 1 0 0 0 0 0 1 0 0 0 1 0 1 0 0 1 0\n",
      " 1 0 0 1 1 0 0 1 1 0 0 0 1 0 0 1 0 1 0 0 0 1 0 0 0 0 0 0 1 0 1 1 1 0 1 1 0\n",
      " 0 1 1 1 1 0 1 1 0 0 1 0 1 0 0 0 0 0 0 0 1 1 0 1 0 1 1 0 0 1 0 1 1 1 0 0 1\n",
      " 1 0 0 0 1 1 0 0 1 0 0 1 1 1 1 1 1 1 0 0 0 0 1 1 1 1 0 0 0 0 0 0 0 1 1 0 0\n",
      " 0 0 1 1 0 0 0 1 0 1 1 0 0 0 1 1 1 0 1 1 1 1 0 0 0 0 1 0 1 0 0 0 1 1 0 1 0\n",
      " 0 1 0 0 0 0 0 0 0 0 1 1 0 0 0 1 1 1 1 1 0 1 1 0 0 1 1 0 0 1 0 0 1 0 1 1 0\n",
      " 0 1 1 0 0 1 1 0 0 0 0 0 1 0 1 0 1 0 0 1 0 0 0 0 0 0 1 0 0 1 1 0 0 1 0]\n"
     ]
    }
   ],
   "source": [
    "print(y_test)"
   ]
  },
  {
   "cell_type": "markdown",
   "metadata": {
    "id": "9gBV33_TAArg"
   },
   "source": [
    "# Feature Scaling"
   ]
  },
  {
   "cell_type": "code",
   "execution_count": 12,
   "metadata": {
    "id": "vX0qpaqgAC7o"
   },
   "outputs": [],
   "source": [
    "#from sklearn.preprocessing import StandardScaler\n",
    "#sc = StandardScaler()\n",
    "#X_train = sc.fit_transform(X_train)\n",
    "#X_test = sc.transform(X_test)"
   ]
  },
  {
   "cell_type": "code",
   "execution_count": 13,
   "metadata": {
    "colab": {
     "base_uri": "https://localhost:8080/"
    },
    "id": "ZjIxhzNFAGoA",
    "outputId": "e0c58558-a691-4c9d-d432-b89dd591a2bd"
   },
   "outputs": [
    {
     "name": "stdout",
     "output_type": "stream",
     "text": [
      "[[  8   6  10  10]\n",
      " [ 17  15  19  19]\n",
      " [ 94  92 107 107]\n",
      " ...\n",
      " [239 237 149 149]\n",
      " [ 18  17  17  17]\n",
      " [ 97  96  51  51]]\n"
     ]
    }
   ],
   "source": [
    "print(X_train)"
   ]
  },
  {
   "cell_type": "code",
   "execution_count": 14,
   "metadata": {
    "colab": {
     "base_uri": "https://localhost:8080/"
    },
    "id": "IyIM7HhQAIzx",
    "outputId": "3570d45b-c3f5-47a6-85a3-f427957f0e2d"
   },
   "outputs": [
    {
     "name": "stdout",
     "output_type": "stream",
     "text": [
      "[[13 11 12 12]\n",
      " [16 15 16 16]\n",
      " [36 35 26 26]\n",
      " ...\n",
      " [16 15 15 15]\n",
      " [12 10 14 14]\n",
      " [95 94 45 45]]\n"
     ]
    }
   ],
   "source": [
    "print(X_test)"
   ]
  },
  {
   "cell_type": "markdown",
   "metadata": {
    "id": "9eXK66IMAK5x"
   },
   "source": [
    "# Entrenamiento del modelo con el Training Set"
   ]
  },
  {
   "cell_type": "code",
   "execution_count": 15,
   "metadata": {
    "colab": {
     "base_uri": "https://localhost:8080/",
     "height": 92
    },
    "id": "XEdl5szYASFC",
    "outputId": "bf996ae0-12a7-44af-ba82-0f1d495aab90"
   },
   "outputs": [
    {
     "data": {
      "text/html": [
       "<style>#sk-container-id-1 {color: black;}#sk-container-id-1 pre{padding: 0;}#sk-container-id-1 div.sk-toggleable {background-color: white;}#sk-container-id-1 label.sk-toggleable__label {cursor: pointer;display: block;width: 100%;margin-bottom: 0;padding: 0.3em;box-sizing: border-box;text-align: center;}#sk-container-id-1 label.sk-toggleable__label-arrow:before {content: \"▸\";float: left;margin-right: 0.25em;color: #696969;}#sk-container-id-1 label.sk-toggleable__label-arrow:hover:before {color: black;}#sk-container-id-1 div.sk-estimator:hover label.sk-toggleable__label-arrow:before {color: black;}#sk-container-id-1 div.sk-toggleable__content {max-height: 0;max-width: 0;overflow: hidden;text-align: left;background-color: #f0f8ff;}#sk-container-id-1 div.sk-toggleable__content pre {margin: 0.2em;color: black;border-radius: 0.25em;background-color: #f0f8ff;}#sk-container-id-1 input.sk-toggleable__control:checked~div.sk-toggleable__content {max-height: 200px;max-width: 100%;overflow: auto;}#sk-container-id-1 input.sk-toggleable__control:checked~label.sk-toggleable__label-arrow:before {content: \"▾\";}#sk-container-id-1 div.sk-estimator input.sk-toggleable__control:checked~label.sk-toggleable__label {background-color: #d4ebff;}#sk-container-id-1 div.sk-label input.sk-toggleable__control:checked~label.sk-toggleable__label {background-color: #d4ebff;}#sk-container-id-1 input.sk-hidden--visually {border: 0;clip: rect(1px 1px 1px 1px);clip: rect(1px, 1px, 1px, 1px);height: 1px;margin: -1px;overflow: hidden;padding: 0;position: absolute;width: 1px;}#sk-container-id-1 div.sk-estimator {font-family: monospace;background-color: #f0f8ff;border: 1px dotted black;border-radius: 0.25em;box-sizing: border-box;margin-bottom: 0.5em;}#sk-container-id-1 div.sk-estimator:hover {background-color: #d4ebff;}#sk-container-id-1 div.sk-parallel-item::after {content: \"\";width: 100%;border-bottom: 1px solid gray;flex-grow: 1;}#sk-container-id-1 div.sk-label:hover label.sk-toggleable__label {background-color: #d4ebff;}#sk-container-id-1 div.sk-serial::before {content: \"\";position: absolute;border-left: 1px solid gray;box-sizing: border-box;top: 0;bottom: 0;left: 50%;z-index: 0;}#sk-container-id-1 div.sk-serial {display: flex;flex-direction: column;align-items: center;background-color: white;padding-right: 0.2em;padding-left: 0.2em;position: relative;}#sk-container-id-1 div.sk-item {position: relative;z-index: 1;}#sk-container-id-1 div.sk-parallel {display: flex;align-items: stretch;justify-content: center;background-color: white;position: relative;}#sk-container-id-1 div.sk-item::before, #sk-container-id-1 div.sk-parallel-item::before {content: \"\";position: absolute;border-left: 1px solid gray;box-sizing: border-box;top: 0;bottom: 0;left: 50%;z-index: -1;}#sk-container-id-1 div.sk-parallel-item {display: flex;flex-direction: column;z-index: 1;position: relative;background-color: white;}#sk-container-id-1 div.sk-parallel-item:first-child::after {align-self: flex-end;width: 50%;}#sk-container-id-1 div.sk-parallel-item:last-child::after {align-self: flex-start;width: 50%;}#sk-container-id-1 div.sk-parallel-item:only-child::after {width: 0;}#sk-container-id-1 div.sk-dashed-wrapped {border: 1px dashed gray;margin: 0 0.4em 0.5em 0.4em;box-sizing: border-box;padding-bottom: 0.4em;background-color: white;}#sk-container-id-1 div.sk-label label {font-family: monospace;font-weight: bold;display: inline-block;line-height: 1.2em;}#sk-container-id-1 div.sk-label-container {text-align: center;}#sk-container-id-1 div.sk-container {/* jupyter's `normalize.less` sets `[hidden] { display: none; }` but bootstrap.min.css set `[hidden] { display: none !important; }` so we also need the `!important` here to be able to override the default hidden behavior on the sphinx rendered scikit-learn.org. See: https://github.com/scikit-learn/scikit-learn/issues/21755 */display: inline-block !important;position: relative;}#sk-container-id-1 div.sk-text-repr-fallback {display: none;}</style><div id=\"sk-container-id-1\" class=\"sk-top-container\"><div class=\"sk-text-repr-fallback\"><pre>RandomForestClassifier(random_state=0)</pre><b>In a Jupyter environment, please rerun this cell to show the HTML representation or trust the notebook. <br />On GitHub, the HTML representation is unable to render, please try loading this page with nbviewer.org.</b></div><div class=\"sk-container\" hidden><div class=\"sk-item\"><div class=\"sk-estimator sk-toggleable\"><input class=\"sk-toggleable__control sk-hidden--visually\" id=\"sk-estimator-id-1\" type=\"checkbox\" checked><label for=\"sk-estimator-id-1\" class=\"sk-toggleable__label sk-toggleable__label-arrow\">RandomForestClassifier</label><div class=\"sk-toggleable__content\"><pre>RandomForestClassifier(random_state=0)</pre></div></div></div></div></div>"
      ],
      "text/plain": [
       "RandomForestClassifier(random_state=0)"
      ]
     },
     "execution_count": 15,
     "metadata": {},
     "output_type": "execute_result"
    }
   ],
   "source": [
    "from sklearn.ensemble import RandomForestClassifier\n",
    "classifier = RandomForestClassifier(n_estimators = 100, max_depth= None,criterion = 'gini', random_state = 0)\n",
    "#from sklearn.tree import DecisionTreeClassifier\n",
    "#classifier = DecisionTreeClassifier()\n",
    "classifier.fit(X_train, y_train)"
   ]
  },
  {
   "cell_type": "markdown",
   "metadata": {
    "id": "HjYRnMT0AcEL"
   },
   "source": [
    "# Predicción de resultados en el Test Set"
   ]
  },
  {
   "cell_type": "code",
   "execution_count": 16,
   "metadata": {
    "id": "WqgeQ9MrAfw8"
   },
   "outputs": [],
   "source": [
    "y_pred = classifier.predict(X_test)\n",
    "#print(np.concatenate((y_pred.reshape(len(y_pred),1), y_test.reshape(len(y_test),1)),1))"
   ]
  },
  {
   "cell_type": "markdown",
   "metadata": {
    "id": "dAJtKPW5AswF"
   },
   "source": [
    "# Análisis de resultados"
   ]
  },
  {
   "cell_type": "code",
   "execution_count": 17,
   "metadata": {
    "colab": {
     "base_uri": "https://localhost:8080/"
    },
    "id": "YK9oclUkAvMP",
    "outputId": "08554bb6-432a-4b35-baeb-6981b4feb35a"
   },
   "outputs": [
    {
     "name": "stdout",
     "output_type": "stream",
     "text": [
      "[[199  11]\n",
      " [  5 153]]\n",
      "Exactitud: \n",
      "0.9565217391304348\n",
      "Sensibilidad (TP Rate o Recall): \n",
      "0.9683544303797469\n",
      "Especificidad (TN Rate): \n",
      "0.9476190476190476\n",
      "Puntaje F1: \n",
      "0.9503105590062113\n"
     ]
    }
   ],
   "source": [
    "from sklearn.metrics import confusion_matrix, accuracy_score, recall_score, f1_score\n",
    "cm = confusion_matrix(y_test, y_pred)\n",
    "print(cm)\n",
    "print('Exactitud: ')\n",
    "print(accuracy_score(y_test, y_pred))\n",
    "print('Sensibilidad (TP Rate o Recall): ')\n",
    "print(recall_score(y_test, y_pred))\n",
    "print('Especificidad (TN Rate): ')\n",
    "print(recall_score(y_test, y_pred, pos_label=0))\n",
    "print('Puntaje F1: ')\n",
    "print(f1_score(y_test, y_pred))"
   ]
  },
  {
   "cell_type": "code",
   "execution_count": 18,
   "metadata": {
    "colab": {
     "base_uri": "https://localhost:8080/"
    },
    "id": "mIudnYA3ZG8U",
    "outputId": "065f0919-6d2c-4cc0-efaf-d19cb1e6186b"
   },
   "outputs": [
    {
     "name": "stdout",
     "output_type": "stream",
     "text": [
      "              precision    recall  f1-score   support\n",
      "\n",
      "           0       0.98      0.95      0.96       210\n",
      "           1       0.93      0.97      0.95       158\n",
      "\n",
      "    accuracy                           0.96       368\n",
      "   macro avg       0.95      0.96      0.96       368\n",
      "weighted avg       0.96      0.96      0.96       368\n",
      "\n"
     ]
    }
   ],
   "source": [
    "from sklearn.metrics import classification_report\n",
    "print(classification_report(y_test, y_pred))"
   ]
  },
  {
   "cell_type": "code",
   "execution_count": 19,
   "metadata": {
    "colab": {
     "base_uri": "https://localhost:8080/"
    },
    "id": "Te5cTzaWHIcz",
    "outputId": "f5126b7d-796a-449a-e60c-8fdd39fa253f"
   },
   "outputs": [
    {
     "name": "stdout",
     "output_type": "stream",
     "text": [
      "         Feature  Importance\n",
      "1    c_ack_cnt:5    0.401402\n",
      "0   c_pkts_all:3    0.268109\n",
      "2  s_pkts_all:17    0.177338\n",
      "3   s_ack_cnt:19    0.153151\n"
     ]
    }
   ],
   "source": [
    "feature_importance = classifier.feature_importances_\n",
    "\n",
    "importance_df = pd.DataFrame({\n",
    "    'Feature': df.columns[:-1],\n",
    "    'Importance': feature_importance\n",
    "})\n",
    "\n",
    "importance_df = importance_df.sort_values(by='Importance', ascending=False)\n",
    "\n",
    "print(importance_df)"
   ]
  },
  {
   "cell_type": "markdown",
   "metadata": {
    "id": "WgkJ23H1IrXm"
   },
   "source": [
    "# Visualización de resultados"
   ]
  },
  {
   "cell_type": "code",
   "execution_count": 20,
   "metadata": {
    "colab": {
     "base_uri": "https://localhost:8080/",
     "height": 975
    },
    "id": "ytDkbvyII08q",
    "outputId": "911fe813-4e7f-4e67-adf2-b6f63b2c411e"
   },
   "outputs": [
    {
     "name": "stdout",
     "output_type": "stream",
     "text": [
      "Requirement already satisfied: matplotlib in /home/ubuntu/.local/lib/python3.8/site-packages (3.7.5)\n",
      "Requirement already satisfied: numpy<2,>=1.20 in /home/ubuntu/.local/lib/python3.8/site-packages (from matplotlib) (1.24.4)\n",
      "Requirement already satisfied: importlib-resources>=3.2.0; python_version < \"3.10\" in /home/ubuntu/.local/lib/python3.8/site-packages (from matplotlib) (6.4.0)\n",
      "Requirement already satisfied: pillow>=6.2.0 in /usr/lib/python3/dist-packages (from matplotlib) (7.0.0)\n",
      "Requirement already satisfied: python-dateutil>=2.7 in /home/ubuntu/.local/lib/python3.8/site-packages (from matplotlib) (2.9.0.post0)\n",
      "Requirement already satisfied: cycler>=0.10 in /home/ubuntu/.local/lib/python3.8/site-packages (from matplotlib) (0.12.1)\n",
      "Requirement already satisfied: kiwisolver>=1.0.1 in /home/ubuntu/.local/lib/python3.8/site-packages (from matplotlib) (1.4.5)\n",
      "Requirement already satisfied: packaging>=20.0 in /home/ubuntu/.local/lib/python3.8/site-packages (from matplotlib) (24.0)\n",
      "Requirement already satisfied: fonttools>=4.22.0 in /home/ubuntu/.local/lib/python3.8/site-packages (from matplotlib) (4.51.0)\n",
      "Requirement already satisfied: contourpy>=1.0.1 in /home/ubuntu/.local/lib/python3.8/site-packages (from matplotlib) (1.1.1)\n",
      "Requirement already satisfied: pyparsing>=2.3.1 in /home/ubuntu/.local/lib/python3.8/site-packages (from matplotlib) (3.1.2)\n",
      "Requirement already satisfied: zipp>=3.1.0; python_version < \"3.10\" in /home/ubuntu/.local/lib/python3.8/site-packages (from importlib-resources>=3.2.0; python_version < \"3.10\"->matplotlib) (3.18.1)\n",
      "Requirement already satisfied: six>=1.5 in /usr/lib/python3/dist-packages (from python-dateutil>=2.7->matplotlib) (1.14.0)\n"
     ]
    },
    {
     "data": {
      "image/png": "[encoded data removed]",
      "text/plain": [
       "<Figure size 800x800 with 1 Axes>"
      ]
     },
     "metadata": {},
     "output_type": "display_data"
    }
   ],
   "source": [
    "!pip install matplotlib\n",
    "from sklearn import tree\n",
    "import matplotlib.pyplot as plt\n",
    "\n",
    "first_tree = classifier.estimators_[0]\n",
    "\n",
    "plt.figure(figsize=(8, 8))\n",
    "tree.plot_tree(first_tree, feature_names=df.columns.tolist(), class_names=['Normal', 'Cryptomining'], filled=True)\n",
    "plt.show()"
   ]
  },
  {
   "cell_type": "code",
   "execution_count": null,
   "metadata": {},
   "outputs": [],
   "source": []
  },
  {
   "cell_type": "code",
   "execution_count": null,
   "metadata": {},
   "outputs": [],
   "source": []
  }
 ],
 "metadata": {
  "colab": {
   "provenance": []
  },
  "kernelspec": {
   "display_name": "Python 3 (ipykernel)",
   "language": "python",
   "name": "python3"
  },
  "language_info": {
   "codemirror_mode": {
    "name": "ipython",
    "version": 3
   },
   "file_extension": ".py",
   "mimetype": "text/x-python",
   "name": "python",
   "nbconvert_exporter": "python",
   "pygments_lexer": "ipython3",
   "version": "3.8.10"
  }
 },
 "nbformat": 4,
 "nbformat_minor": 4
}
